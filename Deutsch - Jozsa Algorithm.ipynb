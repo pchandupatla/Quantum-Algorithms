{
 "cells": [
  {
   "cell_type": "code",
   "execution_count": 2,
   "metadata": {},
   "outputs": [
    {
     "data": {
      "image/png": "[encoded data removed]",
      "text/plain": [
       "<Figure size 504x360 with 1 Axes>"
      ]
     },
     "execution_count": 2,
     "metadata": {},
     "output_type": "execute_result"
    }
   ],
   "source": [
    "import random\n",
    "from qiskit import QuantumCircuit, QuantumRegister, ClassicalRegister\n",
    "from qiskit import Aer, execute\n",
    "from qiskit.visualization import plot_histogram\n",
    "\n",
    "n = 2\n",
    "binaryArray = [random.randint(0,1) for x in range(n + 1)]\n",
    "q = QuantumRegister(n + 1)      # Create a quantum register with 5 qubits.\n",
    "c = ClassicalRegister(n + 1)    # Create a classical register with 5 bits.\n",
    "qc = QuantumCircuit(q, c)   # Create a quantum circuit, combining q and c.\n",
    "\n",
    "qc.x(q[0])\n",
    "qc.barrier()\n",
    "qc.h(q)\n",
    "qc.barrier()\n",
    "\n",
    "binaryArray = binaryArray[::-1]\n",
    "\n",
    "#Uf goes here\n",
    "# 0 to n\n",
    "if binaryArray[0] != 0:\n",
    "    qc.x(q[0])\n",
    "\n",
    "for i in range(1, n + 1, 1):\n",
    "    if binaryArray[i] != 0:\n",
    "        qc.cx(q[i], q[0])\n",
    "\n",
    "\n",
    "# n to 0\n",
    "# for i in range(n, 0, -1):\n",
    "#     if binaryArray[i] != 0:\n",
    "#         qc.cx(q[i], q[0])\n",
    "        \n",
    "# if binaryArray[0] != 0:\n",
    "#     qc.x(q[0])\n",
    "\n",
    "\n",
    "#end Uf\n",
    "\n",
    "qc.barrier()\n",
    "qc.h(q)\n",
    "for i in range(1, n + 1):\n",
    "    qc.measure(q[i],c[i])\n",
    "    \n",
    "# print(binaryArray)\n",
    "# qc.draw(output = \"mpl\")\n",
    "\n",
    "backend = Aer.get_backend('qasm_simulator')\n",
    "\n",
    "counts = execute(qc, backend, shots=1024).result().get_counts(qc)\n",
    "\n",
    "plot_histogram(counts)\n",
    "\n",
    "# if measurement is all 0s, function is constant, else function is balanced\n",
    "\n"
   ]
  },
  {
   "cell_type": "code",
   "execution_count": null,
   "metadata": {},
   "outputs": [],
   "source": []
  }
 ],
 "metadata": {
  "kernelspec": {
   "display_name": "Python 3",
   "language": "python",
   "name": "python3"
  },
  "language_info": {
   "codemirror_mode": {
    "name": "ipython",
    "version": 3
   },
   "file_extension": ".py",
   "mimetype": "text/x-python",
   "name": "python",
   "nbconvert_exporter": "python",
   "pygments_lexer": "ipython3",
   "version": "3.7.4"
  }
 },
 "nbformat": 4,
 "nbformat_minor": 2
}
