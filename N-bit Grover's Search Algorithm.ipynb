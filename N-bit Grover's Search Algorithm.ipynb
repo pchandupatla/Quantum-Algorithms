{
 "cells": [
  {
   "cell_type": "code",
   "execution_count": 2,
   "metadata": {},
   "outputs": [],
   "source": [
    "from qiskit import QuantumRegister,ClassicalRegister,QuantumCircuit,Aer,execute\n",
    "import numpy as np\n",
    "from qiskit.visualization import plot_histogram, plot_state_qsphere, plot_bloch_multivector, plot_bloch_vector"
   ]
  },
  {
   "cell_type": "code",
   "execution_count": 3,
   "metadata": {},
   "outputs": [],
   "source": [
    "#recursive CCC..CC Z^a\n",
    "#control registers Cr must be an array or list\n",
    "#target register is Tr\n",
    "def recCZa(qc,a,Cr,Tr):\n",
    "    if len(Cr)<=1:\n",
    "        if len(Cr)==1:          #if only 1 control bit, apply the C-gate\n",
    "            qc.cu1(np.pi*a,Cr[0],Tr)\n",
    "        else:                   #if no control bits, just apply the gate\n",
    "            qc.u1(np.pi*a,Tr)\n",
    "    else:\n",
    "        nn=len(Cr)\n",
    "        #apply C-sqrt(U)\n",
    "        recCZa(qc,a/2,[Cr[nn-1]],Tr)\n",
    "       \n",
    "        #recursively apply CCNot\n",
    "        qc.h(Cr[nn-1])\n",
    "        recCZa(qc,1,Cr[0:nn-1],Cr[nn-1])\n",
    "        qc.h(Cr[nn-1])\n",
    "        \n",
    "        #apply C-sqrt(U dg)\n",
    "        recCZa(qc,-a/2,[Cr[nn-1]],Tr)\n",
    "        \n",
    "        #recursively apply CCNot\n",
    "        qc.h(Cr[nn-1])\n",
    "        recCZa(qc,1,Cr[0:nn-1],Cr[nn-1])\n",
    "        qc.h(Cr[nn-1])\n",
    "        \n",
    "        #recursivle apply CC-sqrt(U)\n",
    "        recCZa(qc,a/2,Cr[0:nn-1],Tr)"
   ]
  },
  {
   "cell_type": "code",
   "execution_count": 4,
   "metadata": {},
   "outputs": [],
   "source": [
    "def recTof(qc,Cr,Tr):\n",
    "    qc.h(Tr)\n",
    "    recCZa(qc,1,Cr,Tr)\n",
    "    qc.h(Tr)"
   ]
  },
  {
   "cell_type": "code",
   "execution_count": 5,
   "metadata": {},
   "outputs": [],
   "source": [
    "def W(qc, Cr, n):\n",
    "    for i in range(1, n + 1):\n",
    "        qc.h(i)\n",
    "        qc.x(i)\n",
    "    recCZa(qc, 1, Cr, 1)\n",
    "    for j in range(1, n + 1):\n",
    "        qc.x(j)\n",
    "        qc.h(j)"
   ]
  },
  {
   "cell_type": "code",
   "execution_count": 6,
   "metadata": {},
   "outputs": [],
   "source": [
    "def U(qc, Cr, Tr):\n",
    "    qc.x(Tr)\n",
    "    recTof(qc, Cr, 0)\n",
    "    qc.x(Tr)"
   ]
  },
  {
   "cell_type": "code",
   "execution_count": 16,
   "metadata": {},
   "outputs": [],
   "source": [
    "def Grovers(n):\n",
    "    N = 2 ** n\n",
    "    R = int(np.floor(np.pi * np.sqrt(N)/4))\n",
    "\n",
    "    q = QuantumRegister(n + 1)\t# Create a quantum register with n+1 qubits.\n",
    "    c = ClassicalRegister(n)\t# Create a classical register with n bits.\n",
    "    qc = QuantumCircuit(q, c)\t# Create a quantum circuit, combining q and c.\n",
    "\n",
    "    qc.x(0)\n",
    "    qc.h(0)\n",
    "    \n",
    "    for i in range(1, n + 1):\n",
    "        qc.h(i)\n",
    "\n",
    "    for i in range(R):\n",
    "        controls = list(range(1, n + 1))\n",
    "        U(qc, controls, n)\n",
    "        controls = list(range(2, n + 1))\n",
    "        W(qc, controls, n)\n",
    "\n",
    "    qc.h(0)\n",
    "    qc.x(0)\n",
    "\n",
    "    for i in range(1, n + 1):\n",
    "        qc.measure(i, i - 1)\n",
    "    \n",
    "    backend = Aer.get_backend('qasm_simulator')\n",
    "    job = execute(qc, backend, shots=1024)\n",
    "    result = job.result()\n",
    "    counts = result.get_counts(qc)\n",
    "    \n",
    "    max = -1\n",
    "    for key in counts:\n",
    "        if counts[key] > max:\n",
    "            max = counts[key]\n",
    "            maxKey = key\n",
    "    print(maxKey +\" is the probable a\")\n",
    "    return counts\n",
    "#     plot_histogram(counts)"
   ]
  },
  {
   "cell_type": "code",
   "execution_count": 21,
   "metadata": {},
   "outputs": [
    {
     "name": "stdout",
     "output_type": "stream",
     "text": [
      "011 is the probable a\n"
     ]
    },
    {
     "data": {
      "image/png": "[encoded data removed]",
      "text/plain": [
       "<Figure size 504x360 with 1 Axes>"
      ]
     },
     "execution_count": 21,
     "metadata": {},
     "output_type": "execute_result"
    }
   ],
   "source": [
    "counts = Grovers(3)\n",
    "\n",
    "plot_histogram(counts)"
   ]
  },
  {
   "cell_type": "markdown",
   "metadata": {},
   "source": [
    "Analysis and Commentary:\n",
    "The correct value of a is usually returned with a probability of > .95. Though the program crashes after inputting more than 5 input bits, it is interesting that the right answer is very clear. Our solution appears to be correct because each iteration of n = n + 1 until n = 5 returns one 0 followed by n - 1 1's, which is what we would expect as a solution from the provided oracle."
   ]
  },
  {
   "cell_type": "code",
   "execution_count": null,
   "metadata": {},
   "outputs": [],
   "source": []
  },
  {
   "cell_type": "code",
   "execution_count": null,
   "metadata": {},
   "outputs": [],
   "source": []
  },
  {
   "cell_type": "code",
   "execution_count": null,
   "metadata": {},
   "outputs": [],
   "source": []
  },
  {
   "cell_type": "code",
   "execution_count": null,
   "metadata": {},
   "outputs": [],
   "source": []
  }
 ],
 "metadata": {
  "kernelspec": {
   "display_name": "Python 3",
   "language": "python",
   "name": "python3"
  },
  "language_info": {
   "codemirror_mode": {
    "name": "ipython",
    "version": 3
   },
   "file_extension": ".py",
   "mimetype": "text/x-python",
   "name": "python",
   "nbconvert_exporter": "python",
   "pygments_lexer": "ipython3",
   "version": "3.7.4"
  }
 },
 "nbformat": 4,
 "nbformat_minor": 2
}
